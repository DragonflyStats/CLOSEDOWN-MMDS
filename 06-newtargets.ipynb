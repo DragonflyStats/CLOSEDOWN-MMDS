{
  "cells": [
    {
      "metadata": {},
      "cell_type": "markdown",
      "source": "06-newtargets\n================\n\n- `newtargets` takes an imputation (object class `yai`) and a data frame of X-variables for new target observations and finds references for these new observations. \n- A new `yai` object is returned."
    },
    {
      "metadata": {
        "trusted": false
      },
      "cell_type": "code",
      "source": "install.packages(\"yaImpute\")\nlibrary(yaImpute)\nlibrary(randomForest)\n\nlibrary(dplyr)\nlibrary(magrittr)",
      "execution_count": 2,
      "outputs": [
        {
          "name": "stderr",
          "output_type": "stream",
          "text": "Installing package into '/home/nbcommon/R'\n(as 'lib' is unspecified)\nrandomForest 4.6-12\nType rfNews() to see new features/changes/bug fixes.\n\nAttaching package: 'dplyr'\n\nThe following object is masked from 'package:randomForest':\n\n    combine\n\nThe following object is masked from 'package:yaImpute':\n\n    vars\n\nThe following objects are masked from 'package:stats':\n\n    filter, lag\n\nThe following objects are masked from 'package:base':\n\n    intersect, setdiff, setequal, union\n\n"
        }
      ]
    },
    {
      "metadata": {
        "collapsed": true,
        "trusted": false
      },
      "cell_type": "code",
      "source": "data(iris)\n# set the random number seed so that example results are consistant\n# normally, leave out this command\nset.seed(12345)\n# form some test data\nrefs=sample(rownames(iris),50) # just the reference observations\nx <- iris[refs,1:3] # Sepal.Length Sepal.Width Petal.Length\ny <- iris[refs,4:5] # Petal.Width Species\n",
      "execution_count": 3,
      "outputs": []
    },
    {
      "metadata": {
        "collapsed": true,
        "trusted": false
      },
      "cell_type": "code",
      "source": "# build a yai object using mahalanobis\nmal <- yai(x=x,y=y,method=\"mahalanobis\")\n",
      "execution_count": 4,
      "outputs": []
    },
    {
      "metadata": {
        "trusted": false
      },
      "cell_type": "code",
      "source": "which(rownames(iris) %in% rownames(x))",
      "execution_count": 5,
      "outputs": [
        {
          "data": {
            "text/html": "<ol class=list-inline>\n\t<li>1</li>\n\t<li>5</li>\n\t<li>6</li>\n\t<li>7</li>\n\t<li>15</li>\n\t<li>22</li>\n\t<li>23</li>\n\t<li>24</li>\n\t<li>25</li>\n\t<li>28</li>\n\t<li>34</li>\n\t<li>42</li>\n\t<li>43</li>\n\t<li>47</li>\n\t<li>49</li>\n\t<li>53</li>\n\t<li>54</li>\n\t<li>59</li>\n\t<li>63</li>\n\t<li>64</li>\n\t<li>67</li>\n\t<li>70</li>\n\t<li>73</li>\n\t<li>80</li>\n\t<li>82</li>\n\t<li>83</li>\n\t<li>87</li>\n\t<li>90</li>\n\t<li>96</li>\n\t<li>100</li>\n\t<li>101</li>\n\t<li>102</li>\n\t<li>103</li>\n\t<li>104</li>\n\t<li>109</li>\n\t<li>113</li>\n\t<li>122</li>\n\t<li>124</li>\n\t<li>125</li>\n\t<li>128</li>\n\t<li>129</li>\n\t<li>130</li>\n\t<li>131</li>\n\t<li>136</li>\n\t<li>137</li>\n\t<li>140</li>\n\t<li>141</li>\n\t<li>144</li>\n\t<li>146</li>\n\t<li>149</li>\n</ol>\n",
            "text/latex": "\\begin{enumerate*}\n\\item 1\n\\item 5\n\\item 6\n\\item 7\n\\item 15\n\\item 22\n\\item 23\n\\item 24\n\\item 25\n\\item 28\n\\item 34\n\\item 42\n\\item 43\n\\item 47\n\\item 49\n\\item 53\n\\item 54\n\\item 59\n\\item 63\n\\item 64\n\\item 67\n\\item 70\n\\item 73\n\\item 80\n\\item 82\n\\item 83\n\\item 87\n\\item 90\n\\item 96\n\\item 100\n\\item 101\n\\item 102\n\\item 103\n\\item 104\n\\item 109\n\\item 113\n\\item 122\n\\item 124\n\\item 125\n\\item 128\n\\item 129\n\\item 130\n\\item 131\n\\item 136\n\\item 137\n\\item 140\n\\item 141\n\\item 144\n\\item 146\n\\item 149\n\\end{enumerate*}\n",
            "text/markdown": "1. 1\n2. 5\n3. 6\n4. 7\n5. 15\n6. 22\n7. 23\n8. 24\n9. 25\n10. 28\n11. 34\n12. 42\n13. 43\n14. 47\n15. 49\n16. 53\n17. 54\n18. 59\n19. 63\n20. 64\n21. 67\n22. 70\n23. 73\n24. 80\n25. 82\n26. 83\n27. 87\n28. 90\n29. 96\n30. 100\n31. 101\n32. 102\n33. 103\n34. 104\n35. 109\n36. 113\n37. 122\n38. 124\n39. 125\n40. 128\n41. 129\n42. 130\n43. 131\n44. 136\n45. 137\n46. 140\n47. 141\n48. 144\n49. 146\n50. 149\n\n\n",
            "text/plain": " [1]   1   5   6   7  15  22  23  24  25  28  34  42  43  47  49  53  54  59  63\n[20]  64  67  70  73  80  82  83  87  90  96 100 101 102 103 104 109 113 122 124\n[39] 125 128 129 130 131 136 137 140 141 144 146 149"
          },
          "metadata": {},
          "output_type": "display_data"
        }
      ]
    },
    {
      "metadata": {
        "trusted": false
      },
      "cell_type": "code",
      "source": "iris[!(rownames(iris) %in% rownames(x)),] %>% dim",
      "execution_count": 6,
      "outputs": [
        {
          "data": {
            "text/html": "<ol class=list-inline>\n\t<li>100</li>\n\t<li>5</li>\n</ol>\n",
            "text/latex": "\\begin{enumerate*}\n\\item 100\n\\item 5\n\\end{enumerate*}\n",
            "text/markdown": "1. 100\n2. 5\n\n\n",
            "text/plain": "[1] 100   5"
          },
          "metadata": {},
          "output_type": "display_data"
        }
      ]
    },
    {
      "metadata": {
        "collapsed": true,
        "trusted": false
      },
      "cell_type": "code",
      "source": "# get imputations for the target observations (not references)\nmalNew <- newtargets(mal,iris[!(rownames(iris) %in% rownames(x)),])",
      "execution_count": 7,
      "outputs": []
    },
    {
      "metadata": {
        "trusted": false
      },
      "cell_type": "code",
      "source": "# output a data frame of observed and imputed values for\n# the observations that are not in the original yai object\nmyImpute <- impute(malNew,vars=yvars(malNew))\n\n",
      "execution_count": 8,
      "outputs": []
    },
    {
      "metadata": {
        "trusted": false
      },
      "cell_type": "code",
      "source": "# in this example, Y is not specified (not required for mahalanobis).\nmal2 <- yai(x=x,method=\"mahalanobis\")\nidentical(foruse(mal),foruse(mal2))",
      "execution_count": 9,
      "outputs": [
        {
          "data": {
            "text/html": "TRUE",
            "text/latex": "TRUE",
            "text/markdown": "TRUE",
            "text/plain": "[1] TRUE"
          },
          "metadata": {},
          "output_type": "display_data"
        }
      ]
    },
    {
      "metadata": {
        "trusted": false
      },
      "cell_type": "code",
      "source": "# here, method randomForest's unsupervised classification is used (no Y).\nrf <- yai(x=x,method=\"randomForest\")\n\n\n",
      "execution_count": 10,
      "outputs": []
    },
    {
      "metadata": {
        "collapsed": true,
        "trusted": false
      },
      "cell_type": "code",
      "source": "# now get imputations for the targets in the iris data (those that are\n# not references).\nrfNew <- newtargets(rf,iris[!(rownames(iris) %in% rownames(x)),])",
      "execution_count": 11,
      "outputs": []
    },
    {
      "metadata": {
        "collapsed": true,
        "trusted": false
      },
      "cell_type": "code",
      "source": "",
      "execution_count": null,
      "outputs": []
    },
    {
      "metadata": {
        "collapsed": true,
        "trusted": false
      },
      "cell_type": "code",
      "source": "",
      "execution_count": null,
      "outputs": []
    },
    {
      "metadata": {
        "collapsed": true,
        "trusted": false
      },
      "cell_type": "code",
      "source": "",
      "execution_count": null,
      "outputs": []
    }
  ],
  "metadata": {
    "kernelspec": {
      "name": "r",
      "display_name": "R",
      "language": "R"
    },
    "language_info": {
      "mimetype": "text/x-r-source",
      "name": "R",
      "pygments_lexer": "r",
      "version": "3.4.1",
      "file_extension": ".r",
      "codemirror_mode": "r"
    }
  },
  "nbformat": 4,
  "nbformat_minor": 2
}