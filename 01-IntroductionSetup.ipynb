{
  "cells": [
    {
      "metadata": {},
      "cell_type": "markdown",
      "source": "yaImpute: Nearest Neighbor Observation Imputation and Evaluation Tools\n================================================\n - Performs nearest neighbor-based imputation using one or more alternative \napproaches to processing multivariate data. \n - These include methods based on canonical correlation analysis, canonical \ncorrespondence analysis, and a multivariate adaptation of the random forest \nclassification and regression techniques of Leo Breiman and Adele Cutler. \n - Additional methods are also offered. \n - The package includes functions for comparing the results from running \n alternative techniques, detecting imputation targets that are notably distant from reference observations, detecting and correcting for bias, bootstrapping and building ensemble imputations, and mapping results.\n \n### About \"yaImpute\"\n\nPackage yaImpute was built to provide an integrated set of tools designed to meet specific challenges in forestry. It provides alternative methods for finding neighbors, integrates a fast search method, and introduces a novel and experimental application of randomForest. \n\nA function for computing the error statistics suggested by Stage and Crookston (2007) is also included. \n\nWe anticipate that progress in this field will continue, particularly in the area of discovering better X-variables and transformations improving the essential requirements for applying these methods: that there be a relationship between the X- and Y -variables.\n "
    },
    {
      "metadata": {
        "trusted": false
      },
      "cell_type": "code",
      "source": "install.packages(\"yaImpute\")",
      "execution_count": 27,
      "outputs": [
        {
          "name": "stderr",
          "output_type": "stream",
          "text": "Installing package into '/home/nbcommon/R'\n(as 'lib' is unspecified)\n"
        }
      ]
    },
    {
      "metadata": {
        "trusted": false
      },
      "cell_type": "code",
      "source": "library(yaImpute)\n",
      "execution_count": 10,
      "outputs": []
    },
    {
      "metadata": {},
      "cell_type": "markdown",
      "source": "### Classes:\n1. ***`yai`*** is a list returned by function `yai` that contains elements as listed in the manual entry for the package. \n\n    Of special note here are 2 pairs of data frames: \n    `neiDstTrgs` holds the distances between a target observations (identified by row names) and the k reference observations (there are k columns) and `neiIdsTrgs` is a corresponding data frame of target identifications. neiDstRefs and neiIdsRefs are counterparts for references.\n\n2. ***`impute.yai`*** is a data frame of imputed values. The row names are target observation identifications and the columns are variables (X-variables, Y -variables, both, or new variables (ancillary data) supplied in the call to impute.yai). \n\n    When observed values are included, additional variables are included that have .o appended as a suffix to the original name. \n    An attribute is attached with the scaling factors for each variable that is used in computing scaled rmsd.\n\n3. ***`compare.yai`*** is a data frame of root mean square differences (scaled) values. Rows are variables and columns correspond to each imputation result passed as arguments.\n"
    },
    {
      "metadata": {
        "collapsed": true,
        "trusted": false
      },
      "cell_type": "code",
      "source": "",
      "execution_count": null,
      "outputs": []
    }
  ],
  "metadata": {
    "kernelspec": {
      "name": "r",
      "display_name": "R",
      "language": "R"
    },
    "language_info": {
      "mimetype": "text/x-r-source",
      "name": "R",
      "pygments_lexer": "r",
      "version": "3.4.1",
      "file_extension": ".r",
      "codemirror_mode": "r"
    }
  },
  "nbformat": 4,
  "nbformat_minor": 2
}