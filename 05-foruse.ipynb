{
  "cells": [
    {
      "metadata": {},
      "cell_type": "markdown",
      "source": "05-`foruse`\n================\n- `foruse` takes an imputation (object class `yai`) and returns a data frame with 2 columns.\n- Row names are target observation identifications. \n- The first column is the row name of the reference observations used to represent it.\n- The second column is the distance between the reference and target observations.\n"
    },
    {
      "metadata": {
        "trusted": false
      },
      "cell_type": "code",
      "source": "install.packages(\"yaImpute\")\nlibrary(yaImpute)\n\nsuppressWarnings(library(dplyr))\nsuppressWarnings(library(magrittr))",
      "execution_count": 27,
      "outputs": [
        {
          "name": "stderr",
          "output_type": "stream",
          "text": "Installing package into '/home/nbcommon/R'\n(as 'lib' is unspecified)\n"
        }
      ]
    },
    {
      "metadata": {},
      "cell_type": "markdown",
      "source": "### Example\n- using the iris data set."
    },
    {
      "metadata": {
        "collapsed": true,
        "trusted": false
      },
      "cell_type": "code",
      "source": "data(iris)\n# form some test data\nset.seed(1234)\nrefs=sample(rownames(iris),50)\nx <- iris[,1:3] # Sepal.Length Sepal.Width Petal.Length\ny <- iris[refs,4:5] # Petal.Width Species\n",
      "execution_count": 28,
      "outputs": []
    },
    {
      "metadata": {
        "trusted": false
      },
      "cell_type": "code",
      "source": "head(x,3)",
      "execution_count": 29,
      "outputs": [
        {
          "data": {
            "text/html": "<table>\n<thead><tr><th scope=col>Sepal.Length</th><th scope=col>Sepal.Width</th><th scope=col>Petal.Length</th></tr></thead>\n<tbody>\n\t<tr><td>5.1</td><td>3.5</td><td>1.4</td></tr>\n\t<tr><td>4.9</td><td>3.0</td><td>1.4</td></tr>\n\t<tr><td>4.7</td><td>3.2</td><td>1.3</td></tr>\n\t<tr><td>4.6</td><td>3.1</td><td>1.5</td></tr>\n</tbody>\n</table>\n",
            "text/latex": "\\begin{tabular}{r|lll}\n Sepal.Length & Sepal.Width & Petal.Length\\\\\n\\hline\n\t 5.1 & 3.5 & 1.4\\\\\n\t 4.9 & 3.0 & 1.4\\\\\n\t 4.7 & 3.2 & 1.3\\\\\n\t 4.6 & 3.1 & 1.5\\\\\n\\end{tabular}\n",
            "text/markdown": "\nSepal.Length | Sepal.Width | Petal.Length | \n|---|---|---|---|\n| 5.1 | 3.5 | 1.4 | \n| 4.9 | 3.0 | 1.4 | \n| 4.7 | 3.2 | 1.3 | \n| 4.6 | 3.1 | 1.5 | \n\n\n",
            "text/plain": "  Sepal.Length Sepal.Width Petal.Length\n1 5.1          3.5         1.4         \n2 4.9          3.0         1.4         \n3 4.7          3.2         1.3         \n4 4.6          3.1         1.5         "
          },
          "metadata": {},
          "output_type": "display_data"
        }
      ]
    },
    {
      "metadata": {
        "trusted": false
      },
      "cell_type": "code",
      "source": "head(y,3)",
      "execution_count": 34,
      "outputs": [
        {
          "data": {
            "text/html": "<table>\n<thead><tr><th></th><th scope=col>Petal.Width</th><th scope=col>Species</th></tr></thead>\n<tbody>\n\t<tr><th scope=row>18</th><td>0.3       </td><td>setosa    </td></tr>\n\t<tr><th scope=row>93</th><td>1.2       </td><td>versicolor</td></tr>\n\t<tr><th scope=row>91</th><td>1.2       </td><td>versicolor</td></tr>\n</tbody>\n</table>\n",
            "text/latex": "\\begin{tabular}{r|ll}\n  & Petal.Width & Species\\\\\n\\hline\n\t18 & 0.3        & setosa    \\\\\n\t93 & 1.2        & versicolor\\\\\n\t91 & 1.2        & versicolor\\\\\n\\end{tabular}\n",
            "text/markdown": "\n| <!--/--> | Petal.Width | Species | \n|---|---|---|\n| 18 | 0.3        | setosa     | \n| 93 | 1.2        | versicolor | \n| 91 | 1.2        | versicolor | \n\n\n",
            "text/plain": "   Petal.Width Species   \n18 0.3         setosa    \n93 1.2         versicolor\n91 1.2         versicolor"
          },
          "metadata": {},
          "output_type": "display_data"
        }
      ]
    },
    {
      "metadata": {
        "trusted": false
      },
      "cell_type": "code",
      "source": "# build a yai object using mahalanobis\nmal <- yai(x=x,y=y,method=\"mahalanobis\",k=3)\nforuse(mal) %>% head(4) # for references, use is equal to the rowname",
      "execution_count": 35,
      "outputs": [
        {
          "data": {
            "text/html": "<table>\n<thead><tr><th></th><th scope=col>use</th><th scope=col>dist</th></tr></thead>\n<tbody>\n\t<tr><th scope=row>18</th><td>18</td><td>0 </td></tr>\n\t<tr><th scope=row>93</th><td>93</td><td>0 </td></tr>\n\t<tr><th scope=row>91</th><td>91</td><td>0 </td></tr>\n\t<tr><th scope=row>92</th><td>92</td><td>0 </td></tr>\n</tbody>\n</table>\n",
            "text/latex": "\\begin{tabular}{r|ll}\n  & use & dist\\\\\n\\hline\n\t18 & 18 & 0 \\\\\n\t93 & 93 & 0 \\\\\n\t91 & 91 & 0 \\\\\n\t92 & 92 & 0 \\\\\n\\end{tabular}\n",
            "text/markdown": "\n| <!--/--> | use | dist | \n|---|---|---|---|\n| 18 | 18 | 0  | \n| 93 | 93 | 0  | \n| 91 | 91 | 0  | \n| 92 | 92 | 0  | \n\n\n",
            "text/plain": "   use dist\n18 18  0   \n93 93  0   \n91 91  0   \n92 92  0   "
          },
          "metadata": {},
          "output_type": "display_data"
        }
      ]
    },
    {
      "metadata": {
        "trusted": false
      },
      "cell_type": "code",
      "source": "\nforuse(mal,kth=1) %>% head(10) # for references, use is an row to the kth reference.\n",
      "execution_count": 36,
      "outputs": [
        {
          "data": {
            "text/html": "<table>\n<thead><tr><th></th><th scope=col>use</th><th scope=col>dist</th></tr></thead>\n<tbody>\n\t<tr><th scope=row>18</th><td>28       </td><td>0.1690310</td></tr>\n\t<tr><th scope=row>93</th><td>73       </td><td>0.6642707</td></tr>\n\t<tr><th scope=row>91</th><td>114      </td><td>0.3599626</td></tr>\n\t<tr><th scope=row>92</th><td>127      </td><td>0.5863076</td></tr>\n\t<tr><th scope=row>126</th><td>113      </td><td>0.6828239</td></tr>\n\t<tr><th scope=row>149</th><td>137      </td><td>0.1236060</td></tr>\n\t<tr><th scope=row>2</th><td>35       </td><td>0.4072645</td></tr>\n\t<tr><th scope=row>34</th><td>6        </td><td>0.7148427</td></tr>\n\t<tr><th scope=row>95</th><td>91       </td><td>0.4513813</td></tr>\n\t<tr><th scope=row>73</th><td>109      </td><td>0.5459809</td></tr>\n</tbody>\n</table>\n",
            "text/latex": "\\begin{tabular}{r|ll}\n  & use & dist\\\\\n\\hline\n\t18 & 28        & 0.1690310\\\\\n\t93 & 73        & 0.6642707\\\\\n\t91 & 114       & 0.3599626\\\\\n\t92 & 127       & 0.5863076\\\\\n\t126 & 113       & 0.6828239\\\\\n\t149 & 137       & 0.1236060\\\\\n\t2 & 35        & 0.4072645\\\\\n\t34 & 6         & 0.7148427\\\\\n\t95 & 91        & 0.4513813\\\\\n\t73 & 109       & 0.5459809\\\\\n\\end{tabular}\n",
            "text/markdown": "\n| <!--/--> | use | dist | \n|---|---|---|---|---|---|---|---|---|---|\n| 18 | 28        | 0.1690310 | \n| 93 | 73        | 0.6642707 | \n| 91 | 114       | 0.3599626 | \n| 92 | 127       | 0.5863076 | \n| 126 | 113       | 0.6828239 | \n| 149 | 137       | 0.1236060 | \n| 2 | 35        | 0.4072645 | \n| 34 | 6         | 0.7148427 | \n| 95 | 91        | 0.4513813 | \n| 73 | 109       | 0.5459809 | \n\n\n",
            "text/plain": "    use dist     \n18  28  0.1690310\n93  73  0.6642707\n91  114 0.3599626\n92  127 0.5863076\n126 113 0.6828239\n149 137 0.1236060\n2   35  0.4072645\n34  6   0.7148427\n95  91  0.4513813\n73  109 0.5459809"
          },
          "metadata": {},
          "output_type": "display_data"
        }
      ]
    },
    {
      "metadata": {},
      "cell_type": "markdown",
      "source": "### method \nThe method used to select references to represent observations, as follows:\n\n1. ***kth***: [Default Option] the kth nearest neighbor is picked.\n\n2. ***random***: for each observation, the value of kth is selected at random from the 1 to k neighbors (1 to kth if is kth specified).\n                \n3. ***randomWeighted***: 1/(1+d) is used as a probability weight factor in selecting the value of kth, where d is the distance."
    },
    {
      "metadata": {
        "trusted": false
      },
      "cell_type": "code",
      "source": "# get all the choices:\ncbind(foruse(mal),foruse(mal,kth=1),foruse(mal,kth=2),foruse(mal,kth=3)) %>% head(10)",
      "execution_count": 37,
      "outputs": [
        {
          "data": {
            "text/html": "<table>\n<thead><tr><th></th><th scope=col>use</th><th scope=col>dist</th><th scope=col>use</th><th scope=col>dist</th><th scope=col>use</th><th scope=col>dist</th><th scope=col>use</th><th scope=col>dist</th></tr></thead>\n<tbody>\n\t<tr><th scope=row>18</th><td>18       </td><td>0        </td><td>28       </td><td>0.1690310</td><td>40       </td><td>0.2331183</td><td>50       </td><td>0.4929560</td></tr>\n\t<tr><th scope=row>93</th><td>93       </td><td>0        </td><td>73       </td><td>0.6642707</td><td>90       </td><td>0.7451296</td><td>127      </td><td>0.8398692</td></tr>\n\t<tr><th scope=row>91</th><td>91       </td><td>0        </td><td>114      </td><td>0.3599626</td><td>95       </td><td>0.4513813</td><td>60       </td><td>0.4893142</td></tr>\n\t<tr><th scope=row>92</th><td>92       </td><td>0        </td><td>127      </td><td>0.5863076</td><td>133      </td><td>0.6368319</td><td>112      </td><td>0.8338291</td></tr>\n\t<tr><th scope=row>126</th><td>126      </td><td>0        </td><td>113      </td><td>0.6828239</td><td>78       </td><td>0.9324032</td><td>53       </td><td>1.0953916</td></tr>\n\t<tr><th scope=row>149</th><td>149      </td><td>0        </td><td>137      </td><td>0.1236060</td><td>71       </td><td>0.7562683</td><td>138      </td><td>1.1941562</td></tr>\n\t<tr><th scope=row>2</th><td>2        </td><td>0        </td><td>35       </td><td>0.4072645</td><td>36       </td><td>0.5100734</td><td>50       </td><td>0.7670981</td></tr>\n\t<tr><th scope=row>34</th><td>34       </td><td>0        </td><td>6        </td><td>0.7148427</td><td>22       </td><td>1.2878452</td><td>28       </td><td>1.7055938</td></tr>\n\t<tr><th scope=row>95</th><td>95       </td><td>0        </td><td>91       </td><td>0.4513813</td><td>90       </td><td>0.6298693</td><td>114      </td><td>0.7014961</td></tr>\n\t<tr><th scope=row>73</th><td>73       </td><td>0        </td><td>109      </td><td>0.5459809</td><td>93       </td><td>0.6642707</td><td>55       </td><td>0.8379030</td></tr>\n</tbody>\n</table>\n",
            "text/latex": "\\begin{tabular}{r|llllllll}\n  & use & dist & use & dist & use & dist & use & dist\\\\\n\\hline\n\t18 & 18        & 0         & 28        & 0.1690310 & 40        & 0.2331183 & 50        & 0.4929560\\\\\n\t93 & 93        & 0         & 73        & 0.6642707 & 90        & 0.7451296 & 127       & 0.8398692\\\\\n\t91 & 91        & 0         & 114       & 0.3599626 & 95        & 0.4513813 & 60        & 0.4893142\\\\\n\t92 & 92        & 0         & 127       & 0.5863076 & 133       & 0.6368319 & 112       & 0.8338291\\\\\n\t126 & 126       & 0         & 113       & 0.6828239 & 78        & 0.9324032 & 53        & 1.0953916\\\\\n\t149 & 149       & 0         & 137       & 0.1236060 & 71        & 0.7562683 & 138       & 1.1941562\\\\\n\t2 & 2         & 0         & 35        & 0.4072645 & 36        & 0.5100734 & 50        & 0.7670981\\\\\n\t34 & 34        & 0         & 6         & 0.7148427 & 22        & 1.2878452 & 28        & 1.7055938\\\\\n\t95 & 95        & 0         & 91        & 0.4513813 & 90        & 0.6298693 & 114       & 0.7014961\\\\\n\t73 & 73        & 0         & 109       & 0.5459809 & 93        & 0.6642707 & 55        & 0.8379030\\\\\n\\end{tabular}\n",
            "text/markdown": "\n| <!--/--> | use | dist | use | dist | use | dist | use | dist | \n|---|---|---|---|---|---|---|---|---|---|\n| 18 | 18        | 0         | 28        | 0.1690310 | 40        | 0.2331183 | 50        | 0.4929560 | \n| 93 | 93        | 0         | 73        | 0.6642707 | 90        | 0.7451296 | 127       | 0.8398692 | \n| 91 | 91        | 0         | 114       | 0.3599626 | 95        | 0.4513813 | 60        | 0.4893142 | \n| 92 | 92        | 0         | 127       | 0.5863076 | 133       | 0.6368319 | 112       | 0.8338291 | \n| 126 | 126       | 0         | 113       | 0.6828239 | 78        | 0.9324032 | 53        | 1.0953916 | \n| 149 | 149       | 0         | 137       | 0.1236060 | 71        | 0.7562683 | 138       | 1.1941562 | \n| 2 | 2         | 0         | 35        | 0.4072645 | 36        | 0.5100734 | 50        | 0.7670981 | \n| 34 | 34        | 0         | 6         | 0.7148427 | 22        | 1.2878452 | 28        | 1.7055938 | \n| 95 | 95        | 0         | 91        | 0.4513813 | 90        | 0.6298693 | 114       | 0.7014961 | \n| 73 | 73        | 0         | 109       | 0.5459809 | 93        | 0.6642707 | 55        | 0.8379030 | \n\n\n",
            "text/plain": "    use dist use dist      use dist      use dist     \n18  18  0    28  0.1690310 40  0.2331183 50  0.4929560\n93  93  0    73  0.6642707 90  0.7451296 127 0.8398692\n91  91  0    114 0.3599626 95  0.4513813 60  0.4893142\n92  92  0    127 0.5863076 133 0.6368319 112 0.8338291\n126 126 0    113 0.6828239 78  0.9324032 53  1.0953916\n149 149 0    137 0.1236060 71  0.7562683 138 1.1941562\n2   2   0    35  0.4072645 36  0.5100734 50  0.7670981\n34  34  0    6   0.7148427 22  1.2878452 28  1.7055938\n95  95  0    91  0.4513813 90  0.6298693 114 0.7014961\n73  73  0    109 0.5459809 93  0.6642707 55  0.8379030"
          },
          "metadata": {},
          "output_type": "display_data"
        }
      ]
    },
    {
      "metadata": {
        "collapsed": true,
        "trusted": false
      },
      "cell_type": "code",
      "source": "",
      "execution_count": null,
      "outputs": []
    },
    {
      "metadata": {
        "collapsed": true,
        "trusted": false
      },
      "cell_type": "code",
      "source": "",
      "execution_count": null,
      "outputs": []
    }
  ],
  "metadata": {
    "kernelspec": {
      "name": "r",
      "display_name": "R",
      "language": "R"
    },
    "language_info": {
      "mimetype": "text/x-r-source",
      "name": "R",
      "pygments_lexer": "r",
      "version": "3.4.1",
      "file_extension": ".r",
      "codemirror_mode": "r"
    }
  },
  "nbformat": 4,
  "nbformat_minor": 2
}